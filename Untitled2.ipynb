{
 "cells": [
  {
   "cell_type": "code",
   "execution_count": 5,
   "metadata": {},
   "outputs": [
    {
     "ename": "NameError",
     "evalue": "name 'urllib' is not defined",
     "output_type": "error",
     "traceback": [
      "\u001b[1;31m---------------------------------------------------------------------------\u001b[0m",
      "\u001b[1;31mNameError\u001b[0m                                 Traceback (most recent call last)",
      "\u001b[1;32m<ipython-input-5-285b56ea1a65>\u001b[0m in \u001b[0;36m<module>\u001b[1;34m()\u001b[0m\n\u001b[0;32m      1\u001b[0m \u001b[1;32mfrom\u001b[0m \u001b[0murllib\u001b[0m\u001b[1;33m.\u001b[0m\u001b[0mrequest\u001b[0m \u001b[1;32mimport\u001b[0m \u001b[0murlopen\u001b[0m\u001b[1;33m\u001b[0m\u001b[0m\n\u001b[1;32m----> 2\u001b[1;33m \u001b[0mrequest\u001b[0m \u001b[1;33m=\u001b[0m \u001b[0murllib\u001b[0m\u001b[1;33m.\u001b[0m\u001b[0mRequest\u001b[0m\u001b[1;33m(\u001b[0m\u001b[1;34m\"http://www.google.com\"\u001b[0m\u001b[1;33m,\u001b[0m \u001b[0mheaders\u001b[0m\u001b[1;33m=\u001b[0m\u001b[1;33m{\u001b[0m\u001b[1;34m\"Accept\"\u001b[0m \u001b[1;33m:\u001b[0m \u001b[1;34m\"text/html\"\u001b[0m\u001b[1;33m}\u001b[0m\u001b[1;33m)\u001b[0m\u001b[1;33m\u001b[0m\u001b[0m\n\u001b[0m\u001b[0;32m      3\u001b[0m \u001b[0mcontents\u001b[0m \u001b[1;33m=\u001b[0m \u001b[0murllib\u001b[0m\u001b[1;33m.\u001b[0m\u001b[0murlopen\u001b[0m\u001b[1;33m(\u001b[0m\u001b[0mrequest\u001b[0m\u001b[1;33m)\u001b[0m\u001b[1;33m.\u001b[0m\u001b[0mread\u001b[0m\u001b[1;33m(\u001b[0m\u001b[1;33m)\u001b[0m\u001b[1;33m\u001b[0m\u001b[0m\n",
      "\u001b[1;31mNameError\u001b[0m: name 'urllib' is not defined"
     ]
    }
   ],
   "source": [
    "z"
   ]
  },
  {
   "cell_type": "code",
   "execution_count": 10,
   "metadata": {},
   "outputs": [
    {
     "ename": "TypeError",
     "evalue": "'module' object is not callable",
     "output_type": "error",
     "traceback": [
      "\u001b[1;31m---------------------------------------------------------------------------\u001b[0m",
      "\u001b[1;31mTypeError\u001b[0m                                 Traceback (most recent call last)",
      "\u001b[1;32m<ipython-input-10-7949ac4bd854>\u001b[0m in \u001b[0;36m<module>\u001b[1;34m()\u001b[0m\n\u001b[0;32m      1\u001b[0m \u001b[1;32mimport\u001b[0m \u001b[0murllib\u001b[0m\u001b[1;33m.\u001b[0m\u001b[0mrequest\u001b[0m\u001b[1;33m\u001b[0m\u001b[0m\n\u001b[1;32m----> 2\u001b[1;33m \u001b[0mrequest\u001b[0m \u001b[1;33m=\u001b[0m \u001b[0murllib\u001b[0m\u001b[1;33m.\u001b[0m\u001b[0mrequest\u001b[0m\u001b[1;33m(\u001b[0m\u001b[1;34m\"http://www.google.com\"\u001b[0m\u001b[1;33m,\u001b[0m \u001b[0mheaders\u001b[0m\u001b[1;33m=\u001b[0m\u001b[1;33m{\u001b[0m\u001b[1;34m\"Accept\"\u001b[0m \u001b[1;33m:\u001b[0m \u001b[1;34m\"text/html\"\u001b[0m\u001b[1;33m}\u001b[0m\u001b[1;33m)\u001b[0m\u001b[1;33m\u001b[0m\u001b[0m\n\u001b[0m\u001b[0;32m      3\u001b[0m \u001b[0mcontents\u001b[0m \u001b[1;33m=\u001b[0m \u001b[0murlopen\u001b[0m\u001b[1;33m(\u001b[0m\u001b[0mrequest\u001b[0m\u001b[1;33m)\u001b[0m\u001b[1;33m.\u001b[0m\u001b[0mread\u001b[0m\u001b[1;33m(\u001b[0m\u001b[1;33m)\u001b[0m\u001b[1;33m\u001b[0m\u001b[0m\n",
      "\u001b[1;31mTypeError\u001b[0m: 'module' object is not callable"
     ]
    }
   ],
   "source": [
    "import urllib.request\n",
    "request = urllib.request(\"http://www.google.com\", headers={\"Accept\" : \"text/html\"})\n",
    "contents = urlopen(request).read()"
   ]
  },
  {
   "cell_type": "code",
   "execution_count": 11,
   "metadata": {},
   "outputs": [
    {
     "name": "stdout",
     "output_type": "stream",
     "text": [
      "\n",
      "The following command must be run outside of the IPython shell:\n",
      "\n",
      "    $ pip install urllib2\n",
      "\n",
      "The Python package manager (pip) can only be used from outside of IPython.\n",
      "Please reissue the `pip` command in a separate terminal or command prompt.\n",
      "\n",
      "See the Python documentation for more informations on how to install packages:\n",
      "\n",
      "    https://docs.python.org/3/installing/\n"
     ]
    }
   ],
   "source": [
    "pip install urllib2"
   ]
  },
  {
   "cell_type": "code",
   "execution_count": 5,
   "metadata": {},
   "outputs": [
    {
     "name": "stdout",
     "output_type": "stream",
     "text": [
      "<meta content=\"8004603,上参无念\" name=\"author\"/>\n",
      "上参无念\n",
      "<li class=\"time\">出发时间<span>/</span>2017-09-16<i></i></li>\n",
      "2017-09-16\n",
      "<li class=\"day\">出行天数<span>/</span>21 天</li>\n",
      "21\n",
      "<li class=\"cost\">人均费用<span>/</span>25000RMB</li>\n",
      "25000\n",
      "<li class=\"people\">人物<span>/</span>情侣/夫妻</li>\n",
      "情侣/夫妻\n"
     ]
    }
   ],
   "source": [
    "from bs4 import BeautifulSoup\n",
    "from urllib.request import urlopen\n",
    "import re\n",
    "import random\n",
    "\n",
    "url2 = 'https://www.mafengwo.cn/i/8004603.html'\n",
    "html2 = urlopen(url2).read().decode('utf-8')\n",
    "\n",
    "soup2 = BeautifulSoup(html2,features='lxml')\n",
    "\n",
    "name = soup2.find('meta',{'name':'author'})\n",
    "strname = str(name)\n",
    "print(strname)\n",
    "match = re.search(r\"(\\d+),(.+)\\\" name\",strname)\n",
    "print(match.group(2))\n",
    "\n",
    "try:\n",
    "    html2 = urlopen(url2).read().decode('utf-8')\n",
    "    soup2 = BeautifulSoup(html2,features='lxml')\n",
    "    time = soup2.find('li',{'class': 'time'})\n",
    "    print(time)\n",
    "    strtime = str(time)\n",
    "    match2 = re.search(r\"(\\d+-\\d+-\\d+)\",strtime)\n",
    "    sdate = match2.group()\n",
    "    print(sdate)\n",
    "    \n",
    "except:\n",
    "    sdate = 'none'\n",
    "\n",
    "try:\n",
    "    html2 = urlopen(url2).read().decode('utf-8')\n",
    "    soup2 = BeautifulSoup(html2,features='lxml')\n",
    "    day = soup2.find('li',{'class': 'day'})\n",
    "    print(day)\n",
    "    strday = str(day)\n",
    "\n",
    "    match3 = re.search(r\"(\\d+)\",strday)\n",
    "    sday = match3.group()\n",
    "    print(sday)\n",
    "    \n",
    "except:\n",
    "    sday = 'none'\n",
    "    \n",
    "try:\n",
    "    html2 = urlopen(url2).read().decode('utf-8')\n",
    "    soup2 = BeautifulSoup(html2,features='lxml')\n",
    "    cost = soup2.find('li',{'class': 'cost'})\n",
    "    print(cost)\n",
    "    strcost = str(cost)\n",
    "\n",
    "    match4 = re.search(r\"(\\d+)\",strcost)\n",
    "    scost = match4.group()\n",
    "    print(scost)\n",
    "    \n",
    "except:\n",
    "    scost = 'none'\n",
    "\n",
    "try:\n",
    "    people = soup2.find('li',{'class': 'people'})\n",
    "    print(people)\n",
    "    strpeople = str(people)\n",
    "\n",
    "    speople = strpeople.split('</span>')[1].strip('</li>')\n",
    "    print(speople)\n",
    "\n",
    "    \n",
    "except:\n",
    "    speople = 'none'\n",
    "\n",
    "    "
   ]
  },
  {
   "cell_type": "code",
   "execution_count": null,
   "metadata": {},
   "outputs": [],
   "source": []
  },
  {
   "cell_type": "code",
   "execution_count": null,
   "metadata": {},
   "outputs": [],
   "source": []
  },
  {
   "cell_type": "code",
   "execution_count": null,
   "metadata": {},
   "outputs": [],
   "source": []
  },
  {
   "cell_type": "code",
   "execution_count": null,
   "metadata": {},
   "outputs": [],
   "source": []
  }
 ],
 "metadata": {
  "kernelspec": {
   "display_name": "Python 3",
   "language": "python",
   "name": "python3"
  },
  "language_info": {
   "codemirror_mode": {
    "name": "ipython",
    "version": 3
   },
   "file_extension": ".py",
   "mimetype": "text/x-python",
   "name": "python",
   "nbconvert_exporter": "python",
   "pygments_lexer": "ipython3",
   "version": "3.6.4"
  }
 },
 "nbformat": 4,
 "nbformat_minor": 2
}
